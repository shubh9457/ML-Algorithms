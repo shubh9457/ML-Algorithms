{
  "nbformat": 4,
  "nbformat_minor": 0,
  "metadata": {
    "colab": {
      "name": "Normalization and standardization.ipynb",
      "provenance": [],
      "collapsed_sections": [],
      "authorship_tag": "ABX9TyMf8XOvHYi3OxJ8/XADIDpp",
      "include_colab_link": true
    },
    "kernelspec": {
      "name": "python3",
      "display_name": "Python 3"
    },
    "accelerator": "GPU"
  },
  "cells": [
    {
      "cell_type": "markdown",
      "metadata": {
        "id": "view-in-github",
        "colab_type": "text"
      },
      "source": [
        "<a href=\"https://colab.research.google.com/github/shubh9457/ML-Algorithms/blob/master/Normalization_and_standardization.ipynb\" target=\"_parent\"><img src=\"https://colab.research.google.com/assets/colab-badge.svg\" alt=\"Open In Colab\"/></a>"
      ]
    },
    {
      "cell_type": "code",
      "metadata": {
        "id": "XfMgEPjCQfrm",
        "colab_type": "code",
        "colab": {}
      },
      "source": [
        "def mean(arr):\n",
        "  return sum(arr)/len(arr)"
      ],
      "execution_count": 1,
      "outputs": []
    },
    {
      "cell_type": "markdown",
      "metadata": {
        "id": "fRUS09rNQvSd",
        "colab_type": "text"
      },
      "source": [
        "***Normalization***\n",
        "\n",
        "Scaling the data points in the range [0, 1]"
      ]
    },
    {
      "cell_type": "code",
      "metadata": {
        "id": "1KOJihjlQ8Sy",
        "colab_type": "code",
        "colab": {}
      },
      "source": [
        "def normalization(arr):\n",
        "  min_arr = min(arr)\n",
        "  max_arr = max(arr)\n",
        "  denominator = max_arr - min_arr\n",
        "  result_arr = []\n",
        "  for element in arr:\n",
        "    numerator = element - min_arr\n",
        "    result_arr.append(numerator/denominator)\n",
        "  return result_arr"
      ],
      "execution_count": 2,
      "outputs": []
    },
    {
      "cell_type": "code",
      "metadata": {
        "id": "DyJQmoIyRnRu",
        "colab_type": "code",
        "colab": {
          "base_uri": "https://localhost:8080/",
          "height": 34
        },
        "outputId": "e0b669e2-f769-4555-81ea-4d45fe8c6ada"
      },
      "source": [
        "arr = [1, 6, 3, 8, 3, 8, 9, 4]\n",
        "normalization(arr)"
      ],
      "execution_count": 3,
      "outputs": [
        {
          "output_type": "execute_result",
          "data": {
            "text/plain": [
              "[0.0, 0.625, 0.25, 0.875, 0.25, 0.875, 1.0, 0.375]"
            ]
          },
          "metadata": {
            "tags": []
          },
          "execution_count": 3
        }
      ]
    },
    {
      "cell_type": "markdown",
      "metadata": {
        "id": "IvY23XakRzId",
        "colab_type": "text"
      },
      "source": [
        "***Standardization***\n",
        "\n",
        "Scaling mean to 0 and variance as 1."
      ]
    },
    {
      "cell_type": "code",
      "metadata": {
        "id": "B_6FUnY3SAbG",
        "colab_type": "code",
        "colab": {}
      },
      "source": [
        "def variance(arr):\n",
        "  var = 0\n",
        "  mean_val = mean(arr)\n",
        "  for element in arr:\n",
        "    var += (element-mean_val)**2\n",
        "  var = var/len(arr)\n",
        "  return var"
      ],
      "execution_count": 4,
      "outputs": []
    },
    {
      "cell_type": "code",
      "metadata": {
        "id": "UnSNXSrMSyyk",
        "colab_type": "code",
        "colab": {
          "base_uri": "https://localhost:8080/",
          "height": 34
        },
        "outputId": "5ca0ac0d-feca-41f0-ec53-a19b4ebfa913"
      },
      "source": [
        "variance(arr)"
      ],
      "execution_count": 5,
      "outputs": [
        {
          "output_type": "execute_result",
          "data": {
            "text/plain": [
              "7.4375"
            ]
          },
          "metadata": {
            "tags": []
          },
          "execution_count": 5
        }
      ]
    },
    {
      "cell_type": "code",
      "metadata": {
        "id": "CqugIIq2S0gE",
        "colab_type": "code",
        "colab": {
          "base_uri": "https://localhost:8080/",
          "height": 34
        },
        "outputId": "4e90e680-5bcd-4161-dec3-09ea761008ca"
      },
      "source": [
        "mean(arr)"
      ],
      "execution_count": 6,
      "outputs": [
        {
          "output_type": "execute_result",
          "data": {
            "text/plain": [
              "5.25"
            ]
          },
          "metadata": {
            "tags": []
          },
          "execution_count": 6
        }
      ]
    },
    {
      "cell_type": "code",
      "metadata": {
        "id": "hD_V-1Q6S3CT",
        "colab_type": "code",
        "colab": {}
      },
      "source": [
        "def standard_deviation(arr):\n",
        "  variance_arr = variance(arr)\n",
        "  return variance_arr ** 0.5"
      ],
      "execution_count": 7,
      "outputs": []
    },
    {
      "cell_type": "code",
      "metadata": {
        "id": "VgcKd9ejUXjj",
        "colab_type": "code",
        "colab": {}
      },
      "source": [
        "def standardization(arr):\n",
        "  mean_arr = mean(arr)\n",
        "  std_arr = standard_deviation(arr)\n",
        "  resulting_arr = []\n",
        "  for element in arr:\n",
        "    result = (element - mean_arr)/std_arr\n",
        "    resulting_arr.append(result)\n",
        "  return resulting_arr"
      ],
      "execution_count": 8,
      "outputs": []
    },
    {
      "cell_type": "code",
      "metadata": {
        "id": "nElPnhqj4p0K",
        "colab_type": "code",
        "colab": {
          "base_uri": "https://localhost:8080/",
          "height": 151
        },
        "outputId": "fc9a22ef-a8d3-4712-81c3-6fbf661484ab"
      },
      "source": [
        "standardization(arr)"
      ],
      "execution_count": 9,
      "outputs": [
        {
          "output_type": "execute_result",
          "data": {
            "text/plain": [
              "[-1.5583874449479593,\n",
              " 0.2750095491084634,\n",
              " -0.8250286473253902,\n",
              " 1.0083683467310325,\n",
              " -0.8250286473253902,\n",
              " 1.0083683467310325,\n",
              " 1.3750477455423171,\n",
              " -0.4583492485141057]"
            ]
          },
          "metadata": {
            "tags": []
          },
          "execution_count": 9
        }
      ]
    },
    {
      "cell_type": "code",
      "metadata": {
        "id": "QzSbxC4S4rX2",
        "colab_type": "code",
        "colab": {}
      },
      "source": [
        "import matplotlib.pyplot as plt"
      ],
      "execution_count": 10,
      "outputs": []
    },
    {
      "cell_type": "code",
      "metadata": {
        "id": "nsyNfCoFHVTH",
        "colab_type": "code",
        "colab": {
          "base_uri": "https://localhost:8080/",
          "height": 282
        },
        "outputId": "754c2a88-dbcf-4689-9a6e-2391a29be562"
      },
      "source": [
        "plt.plot(arr)"
      ],
      "execution_count": 11,
      "outputs": [
        {
          "output_type": "execute_result",
          "data": {
            "text/plain": [
              "[<matplotlib.lines.Line2D at 0x7f168754a048>]"
            ]
          },
          "metadata": {
            "tags": []
          },
          "execution_count": 11
        },
        {
          "output_type": "display_data",
          "data": {
            "image/png": "[encoded data removed]",
            "text/plain": [
              "<Figure size 432x288 with 1 Axes>"
            ]
          },
          "metadata": {
            "tags": [],
            "needs_background": "light"
          }
        }
      ]
    },
    {
      "cell_type": "code",
      "metadata": {
        "id": "zPJKehozHWrC",
        "colab_type": "code",
        "colab": {
          "base_uri": "https://localhost:8080/",
          "height": 285
        },
        "outputId": "e4a3ed26-8668-49bb-99a3-040c14ae2dbb"
      },
      "source": [
        "plt.plot(standardization(arr))"
      ],
      "execution_count": 12,
      "outputs": [
        {
          "output_type": "execute_result",
          "data": {
            "text/plain": [
              "[<matplotlib.lines.Line2D at 0x7f16870207f0>]"
            ]
          },
          "metadata": {
            "tags": []
          },
          "execution_count": 12
        },
        {
          "output_type": "display_data",
          "data": {
            "image/png": "[encoded data removed]",
            "text/plain": [
              "<Figure size 432x288 with 1 Axes>"
            ]
          },
          "metadata": {
            "tags": [],
            "needs_background": "light"
          }
        }
      ]
    }
  ]
}
{
  "nbformat": 4,
  "nbformat_minor": 0,
  "metadata": {
    "colab": {
      "name": "KNN scratch.ipynb",
      "provenance": [],
      "authorship_tag": "ABX9TyO8KQWneEoUDX3kctKyj7aq",
      "include_colab_link": true
    },
    "kernelspec": {
      "name": "python3",
      "display_name": "Python 3"
    }
  },
  "cells": [
    {
      "cell_type": "markdown",
      "metadata": {
        "id": "view-in-github",
        "colab_type": "text"
      },
      "source": [
        "<a href=\"https://colab.research.google.com/github/shubh9457/ML-Algorithms/blob/master/KNN_scratch.ipynb\" target=\"_parent\"><img src=\"https://colab.research.google.com/assets/colab-badge.svg\" alt=\"Open In Colab\"/></a>"
      ]
    },
    {
      "cell_type": "code",
      "metadata": {
        "id": "ROJKPt3g6ox9",
        "colab_type": "code",
        "colab": {}
      },
      "source": [
        "class Point:\n",
        "  def __init__(self, x, y, classifier=None):\n",
        "    self.x = x\n",
        "    self.y = y\n",
        "    self.classifier = classifier"
      ],
      "execution_count": null,
      "outputs": []
    },
    {
      "cell_type": "code",
      "metadata": {
        "id": "ZQPpbfV_7B8Q",
        "colab_type": "code",
        "colab": {}
      },
      "source": [
        "def euclidean_distance(A, B):\n",
        "  return ((A.x-B.x)**2 + (A.y-B.y)**2)**(1/2)"
      ],
      "execution_count": null,
      "outputs": []
    },
    {
      "cell_type": "code",
      "metadata": {
        "id": "Ums3Ri6n-S2A",
        "colab_type": "code",
        "colab": {}
      },
      "source": [
        "import random\n",
        "from matplotlib import pyplot as plt"
      ],
      "execution_count": null,
      "outputs": []
    },
    {
      "cell_type": "code",
      "metadata": {
        "id": "qYTXbUfa-YTK",
        "colab_type": "code",
        "colab": {}
      },
      "source": [
        "data = []\n",
        "for iterations in range(40):\n",
        "  data.append(Point(random.random() * 10, random.random() * 10, random.randint(0, 1)))"
      ],
      "execution_count": null,
      "outputs": []
    },
    {
      "cell_type": "code",
      "metadata": {
        "id": "lKUKvTx9CB5b",
        "colab_type": "code",
        "colab": {}
      },
      "source": [
        "def KNN(data, unknown_point, k):\n",
        "  x1 = [obj.x for obj in data if obj.classifier == 1]\n",
        "  y1 = [obj.y for obj in data if obj.classifier == 1]\n",
        "  x2 = [obj.x for obj in data if obj.classifier == 0]\n",
        "  y2 = [obj.y for obj in data if obj.classifier == 0]\n",
        "\n",
        "  # plt.plot(x1, y1, 'v', x2, y2, '^')\n",
        "  plt.plot(x1, y1, 'v', x2, y2, '^', unknown_point.x, unknown_point.y, 'o')\n",
        "\n",
        "  distance_dict = {}\n",
        "  for point in data:\n",
        "    dist = euclidean_distance(point, unknown_point)\n",
        "    distance_dict[dist] = point.classifier\n",
        "\n",
        "  sorted_distances = sorted(distance_dict.items(), key=lambda x: x[0])\n",
        "  classifier_count = {}\n",
        "  for dist_tuple in sorted_distances[:k]:\n",
        "    classifier_count[dist_tuple[1]] = classifier_count[dist_tuple[1]] + 1 if dist_tuple[1] in classifier_count.keys() else 1\n",
        "\n",
        "  print(sorted(classifier_count.items(), key=lambda x:x[1])[0][0])"
      ],
      "execution_count": null,
      "outputs": []
    },
    {
      "cell_type": "code",
      "metadata": {
        "id": "x0TPcNxuDENZ",
        "colab_type": "code",
        "colab": {
          "base_uri": "https://localhost:8080/",
          "height": 282
        },
        "outputId": "0e5be4f8-f4b8-4958-dde9-726fd9c52db1"
      },
      "source": [
        "unknown_point = Point( random.random() * 10, random.random() * 10, random.randint(0, 1) )\n",
        "KNN(data, unknown_point, 3)"
      ],
      "execution_count": null,
      "outputs": [
        {
          "output_type": "stream",
          "text": [
            "1\n"
          ],
          "name": "stdout"
        },
        {
          "output_type": "display_data",
          "data": {
            "image/png": "[encoded data removed]",
            "text/plain": [
              "<Figure size 432x288 with 1 Axes>"
            ]
          },
          "metadata": {
            "tags": [],
            "needs_background": "light"
          }
        }
      ]
    },
    {
      "cell_type": "code",
      "metadata": {
        "id": "0-6A3b06DFhL",
        "colab_type": "code",
        "colab": {}
      },
      "source": [
        ""
      ],
      "execution_count": null,
      "outputs": []
    }
  ]
}
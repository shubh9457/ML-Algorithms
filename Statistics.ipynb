{
  "nbformat": 4,
  "nbformat_minor": 0,
  "metadata": {
    "colab": {
      "name": "Statistics.ipynb",
      "provenance": [],
      "authorship_tag": "ABX9TyO108KRZaiMieSFrZ1Ky4gF",
      "include_colab_link": true
    },
    "kernelspec": {
      "name": "python3",
      "display_name": "Python 3"
    }
  },
  "cells": [
    {
      "cell_type": "markdown",
      "metadata": {
        "id": "view-in-github",
        "colab_type": "text"
      },
      "source": [
        "<a href=\"https://colab.research.google.com/github/shubh9457/ML-Algorithms/blob/master/Statistics.ipynb\" target=\"_parent\"><img src=\"https://colab.research.google.com/assets/colab-badge.svg\" alt=\"Open In Colab\"/></a>"
      ]
    },
    {
      "cell_type": "code",
      "metadata": {
        "id": "qrqVuQ3vGi6J",
        "colab_type": "code",
        "colab": {}
      },
      "source": [
        "def mean(arr):\n",
        "  sum_arr = 0\n",
        "  n = len(arr)\n",
        "  \n",
        "  for element in arr:\n",
        "    sum_arr += element\n",
        "\n",
        "  return sum_arr / n"
      ],
      "execution_count": 1,
      "outputs": []
    },
    {
      "cell_type": "code",
      "metadata": {
        "id": "k9LXhb8uG3u0",
        "colab_type": "code",
        "colab": {}
      },
      "source": [
        "def median(arr):\n",
        "  sorted_arr = sorted(arr)\n",
        "  n = len(arr)\n",
        "\n",
        "  if(n%2 == 0):\n",
        "    index = n//2\n",
        "    return (sorted_arr[index] + sorted_arr[index-1]) / 2\n",
        "  else:\n",
        "    index = n//2\n",
        "    return sorted_arr[index-1]"
      ],
      "execution_count": 2,
      "outputs": []
    },
    {
      "cell_type": "code",
      "metadata": {
        "id": "3NzgAfinHpEG",
        "colab_type": "code",
        "colab": {}
      },
      "source": [
        "def mode(arr):\n",
        "  counter = {}\n",
        "\n",
        "  for element in arr:\n",
        "    if(counter.get(element)):\n",
        "      counter[element] += 1\n",
        "    else:\n",
        "      counter[element] = 1\n",
        "  \n",
        "  return sorted(counter.items(), key= lambda item: item[1], reverse=True)[0][0]"
      ],
      "execution_count": 23,
      "outputs": []
    },
    {
      "cell_type": "code",
      "metadata": {
        "id": "j6YdQ1AxKAqm",
        "colab_type": "code",
        "colab": {}
      },
      "source": [
        "def variance(arr):\n",
        "  mean_arr = mean(arr)\n",
        "  n = len(arr)\n",
        "  sum_deviations = 0\n",
        "\n",
        "  for element in arr:\n",
        "    sum_deviations += (element - mean_arr) ** 2\n",
        "\n",
        "  return (1/n) * sum_deviations"
      ],
      "execution_count": 35,
      "outputs": []
    },
    {
      "cell_type": "code",
      "metadata": {
        "id": "Vj9bfgIuK-QL",
        "colab_type": "code",
        "colab": {}
      },
      "source": [
        "def standard_deviation(arr):\n",
        "  variance_arr = variance(arr)\n",
        "\n",
        "  return variance_arr ** 0.5"
      ],
      "execution_count": 38,
      "outputs": []
    },
    {
      "cell_type": "code",
      "metadata": {
        "id": "oca4vd_9IRL3",
        "colab_type": "code",
        "colab": {}
      },
      "source": [
        "import random"
      ],
      "execution_count": 25,
      "outputs": []
    },
    {
      "cell_type": "code",
      "metadata": {
        "id": "tXLyKhrPIWxI",
        "colab_type": "code",
        "colab": {
          "base_uri": "https://localhost:8080/",
          "height": 34
        },
        "outputId": "e979cb4a-075a-4367-ecf6-010a697f3894"
      },
      "source": [
        "arr = [random.randint(1, 10) for _ in range(20)]\n",
        "arr"
      ],
      "execution_count": 26,
      "outputs": [
        {
          "output_type": "execute_result",
          "data": {
            "text/plain": [
              "[7, 3, 5, 6, 8, 9, 1, 4, 9, 5, 8, 7, 6, 2, 7, 7, 9, 10, 6, 2]"
            ]
          },
          "metadata": {
            "tags": []
          },
          "execution_count": 26
        }
      ]
    },
    {
      "cell_type": "code",
      "metadata": {
        "id": "hOiWyBlrJsoj",
        "colab_type": "code",
        "colab": {}
      },
      "source": [
        "mean_arr = mean(arr)\n",
        "median_arr = median(arr)\n",
        "mode_arr = mode(arr)"
      ],
      "execution_count": 27,
      "outputs": []
    },
    {
      "cell_type": "code",
      "metadata": {
        "id": "6RPd5Dp9J5vP",
        "colab_type": "code",
        "colab": {
          "base_uri": "https://localhost:8080/",
          "height": 67
        },
        "outputId": "3eecd49f-4e94-470d-b471-d119a15dcc97"
      },
      "source": [
        "print(mean_arr, median_arr, mode_arr, sep=\"\\n\")"
      ],
      "execution_count": 28,
      "outputs": [
        {
          "output_type": "stream",
          "text": [
            "6.05\n",
            "6.5\n",
            "7\n"
          ],
          "name": "stdout"
        }
      ]
    },
    {
      "cell_type": "code",
      "metadata": {
        "id": "m_ncnSADKyoD",
        "colab_type": "code",
        "colab": {}
      },
      "source": [
        "variance_arr = variance(arr)"
      ],
      "execution_count": 36,
      "outputs": []
    },
    {
      "cell_type": "code",
      "metadata": {
        "id": "ThP8xvKkK7hs",
        "colab_type": "code",
        "colab": {
          "base_uri": "https://localhost:8080/",
          "height": 34
        },
        "outputId": "313e9834-b46a-4267-f375-264c603840ba"
      },
      "source": [
        "print(variance_arr)"
      ],
      "execution_count": 37,
      "outputs": [
        {
          "output_type": "stream",
          "text": [
            "6.347500000000001\n"
          ],
          "name": "stdout"
        }
      ]
    },
    {
      "cell_type": "code",
      "metadata": {
        "id": "FW_qk0tKLvAP",
        "colab_type": "code",
        "colab": {}
      },
      "source": [
        "standard_deviation_arr = standard_deviation(arr)"
      ],
      "execution_count": 39,
      "outputs": []
    },
    {
      "cell_type": "code",
      "metadata": {
        "id": "Dz1KU0DaL0oS",
        "colab_type": "code",
        "colab": {
          "base_uri": "https://localhost:8080/",
          "height": 34
        },
        "outputId": "b2f4c506-e986-4989-f582-bced1b4de6ac"
      },
      "source": [
        "print(standard_deviation_arr)"
      ],
      "execution_count": 40,
      "outputs": [
        {
          "output_type": "stream",
          "text": [
            "2.5194245374688244\n"
          ],
          "name": "stdout"
        }
      ]
    },
    {
      "cell_type": "code",
      "metadata": {
        "id": "s-4GnJcML3wP",
        "colab_type": "code",
        "colab": {
          "base_uri": "https://localhost:8080/",
          "height": 315
        },
        "outputId": "e8cd69b1-3d48-48dd-de57-d8312af44b9f"
      },
      "source": [
        "import matplotlib.pyplot as plt\n",
        "\n",
        "plt.hist(arr, bins=10, color=\"black\")"
      ],
      "execution_count": 46,
      "outputs": [
        {
          "output_type": "execute_result",
          "data": {
            "text/plain": [
              "(array([1., 2., 1., 1., 2., 3., 4., 2., 3., 1.]),\n",
              " array([ 1. ,  1.9,  2.8,  3.7,  4.6,  5.5,  6.4,  7.3,  8.2,  9.1, 10. ]),\n",
              " <a list of 10 Patch objects>)"
            ]
          },
          "metadata": {
            "tags": []
          },
          "execution_count": 46
        },
        {
          "output_type": "display_data",
          "data": {
            "image/png": "[encoded data removed]",
            "text/plain": [
              "<Figure size 432x288 with 1 Axes>"
            ]
          },
          "metadata": {
            "tags": [],
            "needs_background": "light"
          }
        }
      ]
    },
    {
      "cell_type": "code",
      "metadata": {
        "id": "FB-kpTDPMNgO",
        "colab_type": "code",
        "colab": {}
      },
      "source": [
        ""
      ],
      "execution_count": 45,
      "outputs": []
    }
  ]
}